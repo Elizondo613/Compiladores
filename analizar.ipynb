{
 "cells": [
  {
   "cell_type": "code",
   "execution_count": null,
   "metadata": {},
   "outputs": [],
   "source": [
    "import re\n",
    "\n",
    "# === Analisis lexico ===\n",
    "# Definir los patrones para los diferentes tipos de tokens\n",
    "token_patron = {\n",
    "    \"KEYBOARD\" : r'\\b(if|else|while|return|int|float|void)\\b',\n",
    "    \"IDENTIFIER\" : r'\\b[a-zA-Z_][a-zA-Z0-9_]*\\b',\n",
    "    \"NUMBER\" : r'\\b\\d+(\\.\\d+)?\\b',\n",
    "    \"OPERATOR\" : r'[+\\-*/=<>]',\n",
    "    \"DELIMITER\" : r'[().;{}]',\n",
    "    \"WHITESPACE\" : r'\\s+'\n",
    "}\n",
    "\n",
    "def identificar_tokens(texto):\n",
    "    # Unir todos los patrones en un unico patron utilizando grupos nombrados\n",
    "    patron_general = \"|\".join(f\"(?P|<{token}>{patron})\" for token, patron in token_patron.items())\n",
    "    patron_regex = re.compile(patron_general)\n",
    "    tokens_encontrados = []\n",
    "    for match in patron_regex.finditer(texto):\n",
    "        for token, valor in match.groupdict().items():\n",
    "            if valor is not None and token != \"WHITESPACE\":\n",
    "                tokens_encontrados.append((token, valor))\n",
    "    return tokens_encontrados\n",
    "\n",
    "# === Analisis sintactico ===\n",
    "class Parser:\n",
    "    def __init__(self, tokens):\n",
    "        self.tokens = tokens\n",
    "        self.pos = 0\n",
    "\n",
    "    def obtener_token_actual(self):\n",
    "        return self.tokens[self.pos] if self.pos < len(self.tokens) else None\n",
    "    \n",
    "    def coincidir(self, tipo_esperado):\n",
    "        token_actual = self.obtener_token_actual()\n",
    "        if token_actual and token_actual[0] == tipo_esperado:\n",
    "            self.pos += 1\n",
    "            return token_actual\n",
    "        else:\n",
    "            raise SyntaxError(f'Error sintáctico: se esperaba {tipo_esperado}, pero se encontró: {token_actual}')"
   ]
  }
 ],
 "metadata": {
  "language_info": {
   "name": "python"
  }
 },
 "nbformat": 4,
 "nbformat_minor": 2
}
