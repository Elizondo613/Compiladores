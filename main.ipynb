{
 "cells": [
  {
   "cell_type": "code",
   "execution_count": null,
   "metadata": {},
   "outputs": [],
   "source": [
    "import re\n",
    "\n",
    "texto = \"\"\"\n",
    "Alice: 555-123-45678\n",
    "Bob: 33-987-6543\n",
    "Charlie: 777-555-88\n",
    "\"\"\"\n",
    "\n",
    "# Patrón para reconocer número telefónico\n",
    "# Formato ###-###-####\n",
    "patron = r\"\\d{3}-\\d{3}-\\d{4}\"\n",
    "coincidencias = re.findall(patron, texto)\n",
    "coincidencias\n",
    "\n",
    "patronReg = r\"([A-Za-z]+):\\s(\\d{3}-\\d{3}-\\d{4})\"\n",
    "registro = re.findall(patronReg, texto)\n",
    "\n",
    "# Complemento\n",
    "cadena = re.compile(patronReg)\n",
    "for t in texto.split('\\n'):\n",
    "    if not any([cadena.match(t)]):\n",
    "        print(t)\n",
    "\n",
    "\n",
    "#TOKENIZAR\n",
    "def tokenize(text):\n",
    "    tokens = []\n",
    "    # Expresiones regulares para cada tipo de token\n",
    "    keywords = re.compile(r'\\b(if|else|while)\\b')\n",
    "    identificador = re.compile(r'[a-zA-Z][a-zA-Z0-9]*')\n",
    "    numeros = re.compile(r'\\d+')\n",
    "    operadores = re.compile(r'[\\+\\-\\*\\/]')\n",
    "    delimitador = re.compile(r'[()];')\n",
    "\n",
    "    # Extraer palabra por palabra\n",
    "    for palabra in texto.split():\n",
    "        "
   ]
  }
 ],
 "metadata": {
  "language_info": {
   "name": "python"
  }
 },
 "nbformat": 4,
 "nbformat_minor": 2
}
