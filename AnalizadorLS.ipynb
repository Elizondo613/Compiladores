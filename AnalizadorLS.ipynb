{
 "cells": [
  {
   "cell_type": "code",
   "execution_count": null,
   "metadata": {},
   "outputs": [],
   "source": [
    "import analizar;"
   ]
  },
  {
   "cell_type": "code",
   "execution_count": null,
   "metadata": {},
   "outputs": [],
   "source": [
    "# Ejemplo de uso\n",
    "codigo_fuente = \"\"\"\n",
    "int suma(int a, int b) {\n",
    "    return a + b;\n",
    "} \n",
    "\"\"\""
   ]
  },
  {
   "cell_type": "code",
   "execution_count": null,
   "metadata": {},
   "outputs": [],
   "source": [
    "tokens = analizar.identificar_tokens(codigo_fuente)\n",
    "print(\"tokens encontrados:\")\n",
    "for tipo, valor in tokens:\n",
    "    print(f'{tipo}: {valor}')"
   ]
  }
 ],
 "metadata": {
  "language_info": {
   "name": "python"
  }
 },
 "nbformat": 4,
 "nbformat_minor": 2
}
